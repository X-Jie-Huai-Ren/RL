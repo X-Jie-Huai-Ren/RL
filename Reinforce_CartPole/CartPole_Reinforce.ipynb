{
 "cells": [
  {
   "cell_type": "code",
   "execution_count": 8,
   "metadata": {},
   "outputs": [],
   "source": [
    "import gym\n",
    "gym.logger.set_level(0)\n",
    "import numpy as np\n",
    "from collections import deque\n",
    "import matplotlib.pyplot as plt\n",
    "%matplotlib inline\n",
    "\n",
    "import torch\n",
    "from torch import nn\n",
    "# set the random seed\n",
    "torch.manual_seed(0)\n",
    "import torch.nn.functional as F\n",
    "from torch import optim\n",
    "from torch.distributions import Categorical"
   ]
  },
  {
   "cell_type": "code",
   "execution_count": 11,
   "metadata": {},
   "outputs": [
    {
     "name": "stdout",
     "output_type": "stream",
     "text": [
      "observation space: Box([-4.8000002e+00 -3.4028235e+38 -4.1887903e-01 -3.4028235e+38], [4.8000002e+00 3.4028235e+38 4.1887903e-01 3.4028235e+38], (4,), float32)\n",
      "action space: Discrete(2)\n"
     ]
    }
   ],
   "source": [
    "env = gym.make('CartPole-v1')\n",
    "print('observation space:', env.observation_space)\n",
    "print('action space:', env.action_space)\n",
    "\n",
    "device = torch.device(\"cuda:0\" if torch.cuda.is_available() else \"cpu\")\n",
    "\n",
    "class Policy(nn.Module):\n",
    "    def __init__(self, state_dim=4, hidden_dim=16, action_dim=2):\n",
    "        super(Policy, self).__init__()\n",
    "        self.model = nn.Sequential(\n",
    "            nn.Linear(state_dim, hidden_dim),\n",
    "            nn.ReLU(),\n",
    "            nn.Linear(hidden_dim, hidden_dim),\n",
    "            nn.ReLU(),\n",
    "            nn.Linear(hidden_dim, action_dim)\n",
    "        )\n",
    "\n",
    "    def forward(self, x):\n",
    "        return F.softmax(self.model(x), dim=1)\n",
    "    \n",
    "    def act(self, state):\n",
    "        state = torch.from_numpy(state).float().unsqueeze(0).to(device)\n",
    "        probs = self.forward(state).cpu()\n",
    "        m = Categorical(probs)\n",
    "        action = m.sample()\n",
    "        return action.item(), m.log_prob(action)"
   ]
  },
  {
   "cell_type": "markdown",
   "metadata": {},
   "source": [
    "### Train the agent with REINFORCE"
   ]
  },
  {
   "cell_type": "code",
   "execution_count": 15,
   "metadata": {},
   "outputs": [
    {
     "name": "stdout",
     "output_type": "stream",
     "text": [
      "Episode 100\tAverage Score: 12.79\n",
      "Episode 200\tAverage Score: 16.21\n",
      "Episode 300\tAverage Score: 17.73\n",
      "Episode 400\tAverage Score: 22.48\n",
      "Episode 500\tAverage Score: 30.93\n",
      "Episode 600\tAverage Score: 23.92\n",
      "Episode 700\tAverage Score: 35.23\n",
      "Episode 800\tAverage Score: 58.34\n",
      "Episode 900\tAverage Score: 56.38\n",
      "Episode 1000\tAverage Score: 61.74\n",
      "Episode 1100\tAverage Score: 54.27\n",
      "Episode 1200\tAverage Score: 49.82\n",
      "Episode 1300\tAverage Score: 52.86\n",
      "Episode 1400\tAverage Score: 50.40\n",
      "Episode 1500\tAverage Score: 134.36\n",
      "Episode 1600\tAverage Score: 52.64\n",
      "Episode 1700\tAverage Score: 52.10\n",
      "Episode 1800\tAverage Score: 56.11\n",
      "Episode 1900\tAverage Score: 65.78\n",
      "Episode 2000\tAverage Score: 64.96\n",
      "Episode 2100\tAverage Score: 72.98\n",
      "Episode 2200\tAverage Score: 87.47\n",
      "Episode 2300\tAverage Score: 69.10\n",
      "Episode 2400\tAverage Score: 71.15\n",
      "Episode 2500\tAverage Score: 64.58\n",
      "Episode 2600\tAverage Score: 75.35\n",
      "Episode 2700\tAverage Score: 106.22\n",
      "Episode 2800\tAverage Score: 62.92\n",
      "Episode 2900\tAverage Score: 68.91\n",
      "Episode 3000\tAverage Score: 79.74\n",
      "Episode 3100\tAverage Score: 83.02\n",
      "Episode 3200\tAverage Score: 66.96\n",
      "Episode 3300\tAverage Score: 59.61\n",
      "Episode 3400\tAverage Score: 66.85\n",
      "Episode 3500\tAverage Score: 63.89\n",
      "Episode 3600\tAverage Score: 63.57\n",
      "Episode 3700\tAverage Score: 59.90\n",
      "Episode 3800\tAverage Score: 76.18\n",
      "Episode 3900\tAverage Score: 85.43\n",
      "Episode 4000\tAverage Score: 86.64\n",
      "Episode 4100\tAverage Score: 47.64\n",
      "Episode 4200\tAverage Score: 50.68\n",
      "Episode 4300\tAverage Score: 51.26\n",
      "Episode 4400\tAverage Score: 55.11\n",
      "Episode 4500\tAverage Score: 57.47\n",
      "Episode 4600\tAverage Score: 75.35\n",
      "Episode 4700\tAverage Score: 71.63\n",
      "Episode 4800\tAverage Score: 69.56\n",
      "Episode 4900\tAverage Score: 66.92\n",
      "Episode 5000\tAverage Score: 63.92\n",
      "Episode 5100\tAverage Score: 61.92\n",
      "Episode 5200\tAverage Score: 56.59\n",
      "Episode 5300\tAverage Score: 52.06\n",
      "Episode 5400\tAverage Score: 54.44\n",
      "Episode 5500\tAverage Score: 55.46\n",
      "Episode 5600\tAverage Score: 59.56\n",
      "Episode 5700\tAverage Score: 72.60\n",
      "Episode 5800\tAverage Score: 110.73\n",
      "Environment solved in 5859 episodes!\tAverage Score: 196.61\n"
     ]
    }
   ],
   "source": [
    "policy = Policy().to(device)\n",
    "optimizer = optim.Adam(policy.parameters(), lr=1e-2)\n",
    "\n",
    "def reinforce(num_episodes=10000, max_t=1000,gamma=1.0, print_every=100):\n",
    "    scores_deque = deque(maxlen=100)\n",
    "    scores = []\n",
    "    for i_episode in range(1, num_episodes+1):\n",
    "        saved_log_probs = []\n",
    "        rewards = []\n",
    "        state = env.reset()[0]\n",
    "        for t in range(max_t):\n",
    "            action, log_prob = policy.act(state)\n",
    "            saved_log_probs.append(log_prob)\n",
    "            state, reward, done, _, _ = env.step(action)\n",
    "            rewards.append(reward)\n",
    "            if done:\n",
    "                break \n",
    "        scores_deque.append(sum(rewards))\n",
    "        scores.append(sum(rewards))\n",
    "        \n",
    "        discounts = [gamma**i for i in range(len(rewards)+1)]\n",
    "        R = sum([a*b for a,b in zip(discounts, rewards)])\n",
    "        \n",
    "        policy_loss = []\n",
    "        for log_prob in saved_log_probs:\n",
    "            policy_loss.append(-log_prob * R)\n",
    "        policy_loss = torch.cat(policy_loss).sum()\n",
    "        \n",
    "        optimizer.zero_grad()\n",
    "        policy_loss.backward()\n",
    "        optimizer.step()\n",
    "        \n",
    "        if i_episode % print_every == 0:\n",
    "            print('Episode {}\\tAverage Score: {:.2f}'.format(i_episode, np.mean(scores_deque)))\n",
    "        if np.mean(scores_deque)>=195.0:\n",
    "            print('Environment solved in {:d} episodes!\\tAverage Score: {:.2f}'.format(i_episode, np.mean(scores_deque)))\n",
    "            break\n",
    "        \n",
    "    return scores\n",
    "    \n",
    "scores = reinforce()"
   ]
  },
  {
   "cell_type": "code",
   "execution_count": 16,
   "metadata": {},
   "outputs": [
    {
     "data": {
      "image/png": "[encoded data removed]",
      "text/plain": [
       "<Figure size 640x480 with 1 Axes>"
      ]
     },
     "metadata": {},
     "output_type": "display_data"
    }
   ],
   "source": [
    "fig = plt.figure()\n",
    "ax = fig.add_subplot(111)\n",
    "plt.plot(np.arange(1, len(scores)+1), scores)\n",
    "plt.ylabel('Score')\n",
    "plt.xlabel('Episode #')\n",
    "plt.show()"
   ]
  },
  {
   "cell_type": "code",
   "execution_count": 27,
   "metadata": {},
   "outputs": [
    {
     "ename": "KeyboardInterrupt",
     "evalue": "",
     "output_type": "error",
     "traceback": [
      "\u001b[1;31m---------------------------------------------------------------------------\u001b[0m",
      "\u001b[1;31mKeyboardInterrupt\u001b[0m                         Traceback (most recent call last)",
      "Cell \u001b[1;32mIn[27], line 10\u001b[0m\n\u001b[0;32m      8\u001b[0m action, _ \u001b[39m=\u001b[39m policy\u001b[39m.\u001b[39mact(state)\n\u001b[0;32m      9\u001b[0m env\u001b[39m.\u001b[39mrender()\n\u001b[1;32m---> 10\u001b[0m time\u001b[39m.\u001b[39;49msleep(\u001b[39m0.1\u001b[39;49m)\n\u001b[0;32m     12\u001b[0m state, reward, done, _, _ \u001b[39m=\u001b[39m env\u001b[39m.\u001b[39mstep(action)\n\u001b[0;32m     13\u001b[0m \u001b[39mif\u001b[39;00m done:\n",
      "\u001b[1;31mKeyboardInterrupt\u001b[0m: "
     ]
    }
   ],
   "source": [
    "import time\n",
    "\n",
    "env = gym.make('CartPole-v1',render_mode='rgb_array')\n",
    "\n",
    "state = env.reset()[0]\n",
    "# img = plt.imshow(env.render())\n",
    "for t in range(1000):\n",
    "    action, _ = policy.act(state)\n",
    "    env.render()\n",
    "    time.sleep(0.1)\n",
    "    \n",
    "    state, reward, done, _, _ = env.step(action)\n",
    "    if done:\n",
    "        break \n",
    "\n",
    "env.close()"
   ]
  },
  {
   "cell_type": "code",
   "execution_count": null,
   "metadata": {},
   "outputs": [],
   "source": []
  }
 ],
 "metadata": {
  "kernelspec": {
   "display_name": "RL",
   "language": "python",
   "name": "python3"
  },
  "language_info": {
   "codemirror_mode": {
    "name": "ipython",
    "version": 3
   },
   "file_extension": ".py",
   "mimetype": "text/x-python",
   "name": "python",
   "nbconvert_exporter": "python",
   "pygments_lexer": "ipython3",
   "version": "3.8.17"
  },
  "orig_nbformat": 4
 },
 "nbformat": 4,
 "nbformat_minor": 2
}
